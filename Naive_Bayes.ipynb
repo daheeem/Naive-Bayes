{
  "nbformat": 4,
  "nbformat_minor": 0,
  "metadata": {
    "colab": {
      "provenance": [],
      "include_colab_link": true
    },
    "kernelspec": {
      "name": "python3",
      "display_name": "Python 3"
    },
    "language_info": {
      "name": "python"
    }
  },
  "cells": [
    {
      "cell_type": "markdown",
      "metadata": {
        "id": "view-in-github",
        "colab_type": "text"
      },
      "source": [
        "<a href=\"https://colab.research.google.com/github/daheeem/Naive-Bayes/blob/main/Naive_Bayes.ipynb\" target=\"_parent\"><img src=\"https://colab.research.google.com/assets/colab-badge.svg\" alt=\"Open In Colab\"/></a>"
      ]
    },
    {
      "cell_type": "markdown",
      "source": [
        "**Naive Bayes**"
      ],
      "metadata": {
        "id": "GwRYZA4iCh4E"
      }
    },
    {
      "cell_type": "markdown",
      "source": [
        "**IMPORT LIBRARY**"
      ],
      "metadata": {
        "id": "51WmRaTX1Pct"
      }
    },
    {
      "cell_type": "code",
      "execution_count": 1,
      "metadata": {
        "id": "zvXCuLaTseCh"
      },
      "outputs": [],
      "source": [
        "import numpy as np\n",
        "import math\n",
        "import pandas as pd"
      ]
    },
    {
      "cell_type": "markdown",
      "source": [
        "**IMPORT FILE**"
      ],
      "metadata": {
        "id": "4GBEAg8D1YR6"
      }
    },
    {
      "cell_type": "code",
      "source": [
        "#Mengimport data dari file bengkel.xlsx\n",
        "from google.colab import files\n",
        "TheFile = files.upload()"
      ],
      "metadata": {
        "colab": {
          "base_uri": "https://localhost:8080/",
          "height": 73
        },
        "id": "ODjoMZclshyn",
        "outputId": "1f363a8f-536a-43d6-a86b-6b2eb8ec7d6d"
      },
      "execution_count": 2,
      "outputs": [
        {
          "output_type": "display_data",
          "data": {
            "text/plain": [
              "<IPython.core.display.HTML object>"
            ],
            "text/html": [
              "\n",
              "     <input type=\"file\" id=\"files-0d55e59b-3db2-4530-b647-cd93c3646e8a\" name=\"files[]\" multiple disabled\n",
              "        style=\"border:none\" />\n",
              "     <output id=\"result-0d55e59b-3db2-4530-b647-cd93c3646e8a\">\n",
              "      Upload widget is only available when the cell has been executed in the\n",
              "      current browser session. Please rerun this cell to enable.\n",
              "      </output>\n",
              "      <script>// Copyright 2017 Google LLC\n",
              "//\n",
              "// Licensed under the Apache License, Version 2.0 (the \"License\");\n",
              "// you may not use this file except in compliance with the License.\n",
              "// You may obtain a copy of the License at\n",
              "//\n",
              "//      http://www.apache.org/licenses/LICENSE-2.0\n",
              "//\n",
              "// Unless required by applicable law or agreed to in writing, software\n",
              "// distributed under the License is distributed on an \"AS IS\" BASIS,\n",
              "// WITHOUT WARRANTIES OR CONDITIONS OF ANY KIND, either express or implied.\n",
              "// See the License for the specific language governing permissions and\n",
              "// limitations under the License.\n",
              "\n",
              "/**\n",
              " * @fileoverview Helpers for google.colab Python module.\n",
              " */\n",
              "(function(scope) {\n",
              "function span(text, styleAttributes = {}) {\n",
              "  const element = document.createElement('span');\n",
              "  element.textContent = text;\n",
              "  for (const key of Object.keys(styleAttributes)) {\n",
              "    element.style[key] = styleAttributes[key];\n",
              "  }\n",
              "  return element;\n",
              "}\n",
              "\n",
              "// Max number of bytes which will be uploaded at a time.\n",
              "const MAX_PAYLOAD_SIZE = 100 * 1024;\n",
              "\n",
              "function _uploadFiles(inputId, outputId) {\n",
              "  const steps = uploadFilesStep(inputId, outputId);\n",
              "  const outputElement = document.getElementById(outputId);\n",
              "  // Cache steps on the outputElement to make it available for the next call\n",
              "  // to uploadFilesContinue from Python.\n",
              "  outputElement.steps = steps;\n",
              "\n",
              "  return _uploadFilesContinue(outputId);\n",
              "}\n",
              "\n",
              "// This is roughly an async generator (not supported in the browser yet),\n",
              "// where there are multiple asynchronous steps and the Python side is going\n",
              "// to poll for completion of each step.\n",
              "// This uses a Promise to block the python side on completion of each step,\n",
              "// then passes the result of the previous step as the input to the next step.\n",
              "function _uploadFilesContinue(outputId) {\n",
              "  const outputElement = document.getElementById(outputId);\n",
              "  const steps = outputElement.steps;\n",
              "\n",
              "  const next = steps.next(outputElement.lastPromiseValue);\n",
              "  return Promise.resolve(next.value.promise).then((value) => {\n",
              "    // Cache the last promise value to make it available to the next\n",
              "    // step of the generator.\n",
              "    outputElement.lastPromiseValue = value;\n",
              "    return next.value.response;\n",
              "  });\n",
              "}\n",
              "\n",
              "/**\n",
              " * Generator function which is called between each async step of the upload\n",
              " * process.\n",
              " * @param {string} inputId Element ID of the input file picker element.\n",
              " * @param {string} outputId Element ID of the output display.\n",
              " * @return {!Iterable<!Object>} Iterable of next steps.\n",
              " */\n",
              "function* uploadFilesStep(inputId, outputId) {\n",
              "  const inputElement = document.getElementById(inputId);\n",
              "  inputElement.disabled = false;\n",
              "\n",
              "  const outputElement = document.getElementById(outputId);\n",
              "  outputElement.innerHTML = '';\n",
              "\n",
              "  const pickedPromise = new Promise((resolve) => {\n",
              "    inputElement.addEventListener('change', (e) => {\n",
              "      resolve(e.target.files);\n",
              "    });\n",
              "  });\n",
              "\n",
              "  const cancel = document.createElement('button');\n",
              "  inputElement.parentElement.appendChild(cancel);\n",
              "  cancel.textContent = 'Cancel upload';\n",
              "  const cancelPromise = new Promise((resolve) => {\n",
              "    cancel.onclick = () => {\n",
              "      resolve(null);\n",
              "    };\n",
              "  });\n",
              "\n",
              "  // Wait for the user to pick the files.\n",
              "  const files = yield {\n",
              "    promise: Promise.race([pickedPromise, cancelPromise]),\n",
              "    response: {\n",
              "      action: 'starting',\n",
              "    }\n",
              "  };\n",
              "\n",
              "  cancel.remove();\n",
              "\n",
              "  // Disable the input element since further picks are not allowed.\n",
              "  inputElement.disabled = true;\n",
              "\n",
              "  if (!files) {\n",
              "    return {\n",
              "      response: {\n",
              "        action: 'complete',\n",
              "      }\n",
              "    };\n",
              "  }\n",
              "\n",
              "  for (const file of files) {\n",
              "    const li = document.createElement('li');\n",
              "    li.append(span(file.name, {fontWeight: 'bold'}));\n",
              "    li.append(span(\n",
              "        `(${file.type || 'n/a'}) - ${file.size} bytes, ` +\n",
              "        `last modified: ${\n",
              "            file.lastModifiedDate ? file.lastModifiedDate.toLocaleDateString() :\n",
              "                                    'n/a'} - `));\n",
              "    const percent = span('0% done');\n",
              "    li.appendChild(percent);\n",
              "\n",
              "    outputElement.appendChild(li);\n",
              "\n",
              "    const fileDataPromise = new Promise((resolve) => {\n",
              "      const reader = new FileReader();\n",
              "      reader.onload = (e) => {\n",
              "        resolve(e.target.result);\n",
              "      };\n",
              "      reader.readAsArrayBuffer(file);\n",
              "    });\n",
              "    // Wait for the data to be ready.\n",
              "    let fileData = yield {\n",
              "      promise: fileDataPromise,\n",
              "      response: {\n",
              "        action: 'continue',\n",
              "      }\n",
              "    };\n",
              "\n",
              "    // Use a chunked sending to avoid message size limits. See b/62115660.\n",
              "    let position = 0;\n",
              "    do {\n",
              "      const length = Math.min(fileData.byteLength - position, MAX_PAYLOAD_SIZE);\n",
              "      const chunk = new Uint8Array(fileData, position, length);\n",
              "      position += length;\n",
              "\n",
              "      const base64 = btoa(String.fromCharCode.apply(null, chunk));\n",
              "      yield {\n",
              "        response: {\n",
              "          action: 'append',\n",
              "          file: file.name,\n",
              "          data: base64,\n",
              "        },\n",
              "      };\n",
              "\n",
              "      let percentDone = fileData.byteLength === 0 ?\n",
              "          100 :\n",
              "          Math.round((position / fileData.byteLength) * 100);\n",
              "      percent.textContent = `${percentDone}% done`;\n",
              "\n",
              "    } while (position < fileData.byteLength);\n",
              "  }\n",
              "\n",
              "  // All done.\n",
              "  yield {\n",
              "    response: {\n",
              "      action: 'complete',\n",
              "    }\n",
              "  };\n",
              "}\n",
              "\n",
              "scope.google = scope.google || {};\n",
              "scope.google.colab = scope.google.colab || {};\n",
              "scope.google.colab._files = {\n",
              "  _uploadFiles,\n",
              "  _uploadFilesContinue,\n",
              "};\n",
              "})(self);\n",
              "</script> "
            ]
          },
          "metadata": {}
        },
        {
          "output_type": "stream",
          "name": "stdout",
          "text": [
            "Saving traintest.xlsx to traintest.xlsx\n"
          ]
        }
      ]
    },
    {
      "cell_type": "code",
      "source": [
        "data = pd.read_excel('traintest.xlsx' ,sheet_name = \"train\")\n",
        "datatest = pd.read_excel('traintest.xlsx' ,sheet_name = \"test\")\n"
      ],
      "metadata": {
        "id": "FNGAG0vgsnc5"
      },
      "execution_count": 3,
      "outputs": []
    },
    {
      "cell_type": "markdown",
      "source": [
        "**HITUNG MEAN**"
      ],
      "metadata": {
        "id": "2rqU6Wpf1mdY"
      }
    },
    {
      "cell_type": "code",
      "source": [
        "def mean(nilai):\n",
        "  jumlah = 0\n",
        "  for i in range(len(nilai)):\n",
        "    jumlah = jumlah + nilai[i]\n",
        "  \n",
        "  rata2 = jumlah / len(nilai)\n",
        "\n",
        "  return rata2"
      ],
      "metadata": {
        "id": "0j6t4nPItlz3"
      },
      "execution_count": 4,
      "outputs": []
    },
    {
      "cell_type": "markdown",
      "source": [
        "**HITUNG VARIANSI**"
      ],
      "metadata": {
        "id": "m1btevv91otE"
      }
    },
    {
      "cell_type": "code",
      "source": [
        "def variansi(nilai):\n",
        "  rata2 = mean(nilai)\n",
        "  jumlah = 0\n",
        "  for i in range(len(nilai)):\n",
        "    jumlah = (jumlah + ((nilai[i] - rata2)**2))\n",
        "  \n",
        "  hasil = (jumlah / (len(nilai)-1))\n",
        "\n",
        "  return math.sqrt(hasil)"
      ],
      "metadata": {
        "id": "g21oEOsStmQL"
      },
      "execution_count": 5,
      "outputs": []
    },
    {
      "cell_type": "markdown",
      "source": [
        "**NAIVE BAYES**"
      ],
      "metadata": {
        "id": "y7ZdSHhi1stX"
      }
    },
    {
      "cell_type": "code",
      "source": [
        "def bayes(x, mean,var):\n",
        "  hasil = 1 / (var * math.sqrt(2 * 3.14)) * math.exp(-((x - mean)**2 / (2 * var**2)))\n",
        "  \n",
        "  return hasil"
      ],
      "metadata": {
        "id": "aJ1ZW1y4to2r"
      },
      "execution_count": 6,
      "outputs": []
    },
    {
      "cell_type": "markdown",
      "source": [
        "**MEMBANGUN MODEL**\n",
        "\n",
        "**HOLDOUT VALIDATION ( 80 : 20 )**"
      ],
      "metadata": {
        "id": "nvdgZ3Rv2aQS"
      }
    },
    {
      "cell_type": "code",
      "source": [
        "dataTrain = np.array(data)\n",
        "\n",
        "latih = int((0.8 * len(dataTrain)))\n",
        "dataUji =[]\n",
        "dataLatih = dataTrain[:int(latih)]\n",
        "dataUji = dataTrain[int(latih): len(dataTrain)]\n",
        "\n",
        "tabelData = pd.DataFrame(dataTrain, columns =['id', 'x1', 'x2', 'x3', 'y'])\n",
        "print(tabelData)"
      ],
      "metadata": {
        "id": "ellCAIpgssGw",
        "colab": {
          "base_uri": "https://localhost:8080/"
        },
        "outputId": "eb221cc9-62de-4e43-a7d5-836000eeb79c"
      },
      "execution_count": 7,
      "outputs": [
        {
          "output_type": "stream",
          "name": "stdout",
          "text": [
            "      id  x1  x2  x3  y\n",
            "0      1  60  64   0  1\n",
            "1      2  54  60  11  0\n",
            "2      3  65  62  22  0\n",
            "3      4  34  60   0  1\n",
            "4      5  38  69  21  0\n",
            "..   ...  ..  ..  .. ..\n",
            "291  292  59  64   1  1\n",
            "292  293  65  67   0  1\n",
            "293  294  53  65  12  0\n",
            "294  295  57  64   1  0\n",
            "295  296  54  59   7  1\n",
            "\n",
            "[296 rows x 5 columns]\n"
          ]
        }
      ]
    },
    {
      "cell_type": "markdown",
      "source": [
        "**MEMASUKKAN DAN MENGELOMPPOKKAN DATA BERDASARKAN (y)**"
      ],
      "metadata": {
        "id": "MA6wkr-S2BKR"
      }
    },
    {
      "cell_type": "code",
      "source": [
        "idYes = []\n",
        "x1Yes = []\n",
        "x2Yes = []\n",
        "x3Yes = []\n",
        "yYes = []\n",
        "idNo = []\n",
        "x1No = []\n",
        "x2No = []\n",
        "x3No = []\n",
        "yNo = []\n",
        "\n",
        "for i in range(len(dataLatih)):\n",
        "  if dataLatih[i][4] == 1:\n",
        "    idYes.append(dataLatih[i][0])\n",
        "    x1Yes.append(dataLatih[i][1])\n",
        "    x2Yes.append(dataLatih[i][2])\n",
        "    x3Yes.append(dataLatih[i][3])\n",
        "    yYes.append(dataLatih[i][4])\n",
        "  else:\n",
        "    idNo.append(dataLatih[i][0])\n",
        "    x1No.append(dataLatih[i][1])\n",
        "    x2No.append(dataLatih[i][2])\n",
        "    x3No.append(dataLatih[i][3])\n",
        "    yNo.append(dataLatih[i][4])\n",
        "\n",
        "mean_X1Yes = mean(x1Yes)\n",
        "mean_X2Yes = mean(x2Yes)\n",
        "mean_X3Yes = mean(x3Yes)\n",
        "\n",
        "mean_X1No = mean(x1No)\n",
        "mean_X2No = mean(x2No)\n",
        "mean_X3No = mean(x3No)\n",
        "\n",
        "Var_X1Yes = variansi(x1Yes)\n",
        "Var_X2Yes = variansi(x2Yes)\n",
        "Var_X3Yes = variansi(x3Yes)\n",
        "\n",
        "Var_X1No = variansi(x1No)\n",
        "Var_X2No = variansi(x2No)\n",
        "Var_X3No = variansi(x3No)  "
      ],
      "metadata": {
        "id": "23ijSKuatr2M"
      },
      "execution_count": 8,
      "outputs": []
    },
    {
      "cell_type": "markdown",
      "source": [
        "**PREDIKSI DATA UJI**"
      ],
      "metadata": {
        "id": "468labsj3Z18"
      }
    },
    {
      "cell_type": "code",
      "source": [
        "TheprediksiUji = []\n",
        "\n",
        "for i in range(len(dataUji)):\n",
        "  yes = len(idYes)/len(dataLatih) * (bayes(dataUji[i][1], mean_X1Yes, Var_X1Yes)) * (bayes(dataUji[i][2], mean_X2Yes, Var_X2Yes)) * (bayes(dataUji[i][3], mean_X3Yes, Var_X3Yes))\n",
        "  no = len(idNo)/len(dataLatih) * (bayes(dataUji[i][1], mean_X1No, Var_X1No)) * (bayes(dataUji[i][2], mean_X2No, Var_X2No)) * (bayes(dataUji[i][3], mean_X3No, Var_X3No))\n",
        "\n",
        "  if yes > no:\n",
        "    TheprediksiUji.append(1)\n",
        "  else:\n",
        "    TheprediksiUji.append(0)"
      ],
      "metadata": {
        "id": "BzghT7ZyuMHh"
      },
      "execution_count": 9,
      "outputs": []
    },
    {
      "cell_type": "code",
      "source": [
        "print(\"PREDIKSI : \",TheprediksiUji)"
      ],
      "metadata": {
        "colab": {
          "base_uri": "https://localhost:8080/"
        },
        "id": "iHvHQI7m-eF8",
        "outputId": "66ebb7b6-c0be-4726-9ab2-799faa16a126"
      },
      "execution_count": 10,
      "outputs": [
        {
          "output_type": "stream",
          "name": "stdout",
          "text": [
            "PREDIKSI :  [1, 1, 1, 1, 1, 1, 0, 1, 1, 1, 1, 0, 1, 1, 1, 0, 1, 1, 1, 1, 1, 1, 1, 0, 1, 1, 1, 1, 1, 1, 1, 1, 1, 1, 1, 1, 1, 1, 1, 1, 1, 1, 1, 1, 1, 1, 1, 1, 1, 1, 1, 1, 1, 1, 1, 1, 1, 1, 1, 1]\n"
          ]
        }
      ]
    },
    {
      "cell_type": "markdown",
      "source": [
        "**MENGHITUNG AKURASI PADA DATA UJI**"
      ],
      "metadata": {
        "id": "nUk8_ruc4GQ7"
      }
    },
    {
      "cell_type": "code",
      "source": [
        "tpuji = 0\n",
        "fnuji = 0\n",
        "fpuji = 0\n",
        "tnuji = 0\n",
        "\n",
        "for i in range (len(dataUji)):\n",
        "  if dataUji[i][4] == 1 and TheprediksiUji[i] == 1:\n",
        "    tpuji = tpuji + 1\n",
        "  elif dataUji[i][4] == 1 and TheprediksiUji[i] == 0:\n",
        "    fnuji = fnuji + 1\n",
        "  elif dataUji[i][4] == 0 and TheprediksiUji[i] == 1:\n",
        "    fpuji = fpuji + 1\n",
        "  elif dataUji[i][4] == 0 and TheprediksiUji[i] == 0:\n",
        "    tnuji = tnuji + 1\n",
        "\n",
        "akurasiUji = (tpuji + tnuji) / (tpuji + tnuji + fnuji + fpuji)"
      ],
      "metadata": {
        "id": "ETxHH6S2v5ww"
      },
      "execution_count": 11,
      "outputs": []
    },
    {
      "cell_type": "code",
      "source": [
        "print(\"AKURASI DATA UJI : \",akurasiUji * 100, \"%\")"
      ],
      "metadata": {
        "colab": {
          "base_uri": "https://localhost:8080/"
        },
        "id": "3oDhAXE3wR9B",
        "outputId": "0c2c8b82-1119-4847-a951-2c4b40318fe4"
      },
      "execution_count": 13,
      "outputs": [
        {
          "output_type": "stream",
          "name": "stdout",
          "text": [
            "AKURASI DATA UJI :  75.0 %\n"
          ]
        }
      ]
    },
    {
      "cell_type": "markdown",
      "source": [
        "**PREDIKSI DATA KESELURUHAN**"
      ],
      "metadata": {
        "id": "WXq9y96O46zQ"
      }
    },
    {
      "cell_type": "code",
      "source": [
        "TheprediksiSeluruh = []\n",
        "\n",
        "for i in range(len(dataTrain)):\n",
        "  yes = len(idYes)/len(dataLatih) * (bayes(dataTrain[i][1], mean_X1Yes, Var_X1Yes)) * (bayes(dataTrain[i][2], mean_X2Yes, Var_X2Yes)) * (bayes(dataTrain[i][3], mean_X3Yes, Var_X3Yes))\n",
        "  no = len(idNo)/len(dataLatih) * (bayes(dataTrain[i][1], mean_X1No, Var_X1No)) * (bayes(dataTrain[i][2], mean_X2No, Var_X2No)) * (bayes(dataTrain[i][3], mean_X3No, Var_X3No))\n",
        "\n",
        "  if yes > no:\n",
        "    TheprediksiSeluruh.append(1)\n",
        "  else:\n",
        "    TheprediksiSeluruh.append(0)"
      ],
      "metadata": {
        "id": "qtatTeUWwYVk"
      },
      "execution_count": 14,
      "outputs": []
    },
    {
      "cell_type": "code",
      "source": [
        "print(\"PREDIKSI : \",TheprediksiSeluruh)"
      ],
      "metadata": {
        "colab": {
          "base_uri": "https://localhost:8080/"
        },
        "id": "rkXAIlsvALEy",
        "outputId": "da254486-01d4-40ed-a8a7-95c35c00372e"
      },
      "execution_count": 15,
      "outputs": [
        {
          "output_type": "stream",
          "name": "stdout",
          "text": [
            "PREDIKSI :  [1, 1, 0, 1, 0, 1, 1, 1, 1, 1, 0, 1, 1, 1, 1, 1, 1, 1, 1, 1, 1, 1, 1, 1, 1, 0, 1, 1, 1, 1, 1, 1, 1, 1, 1, 1, 1, 0, 1, 1, 1, 1, 1, 1, 1, 1, 1, 1, 0, 1, 1, 1, 1, 1, 1, 0, 1, 1, 1, 1, 1, 1, 1, 1, 1, 1, 1, 1, 1, 1, 1, 1, 1, 1, 1, 1, 1, 0, 1, 1, 1, 1, 1, 1, 1, 1, 1, 1, 1, 1, 1, 1, 1, 1, 0, 1, 1, 1, 1, 1, 1, 1, 0, 1, 1, 1, 1, 1, 1, 1, 1, 1, 1, 1, 1, 1, 1, 1, 1, 1, 1, 1, 1, 1, 1, 1, 1, 1, 1, 0, 1, 1, 0, 1, 1, 0, 1, 0, 1, 1, 1, 1, 1, 0, 1, 1, 1, 1, 1, 1, 1, 0, 1, 1, 1, 1, 1, 1, 1, 1, 1, 1, 1, 1, 1, 1, 1, 1, 1, 0, 1, 1, 1, 1, 1, 1, 1, 1, 1, 1, 1, 0, 1, 1, 1, 0, 1, 1, 1, 1, 1, 1, 1, 1, 1, 1, 1, 1, 1, 1, 0, 0, 1, 1, 1, 1, 1, 1, 1, 1, 1, 1, 0, 1, 1, 1, 1, 1, 1, 1, 1, 1, 1, 1, 1, 1, 1, 1, 1, 1, 1, 1, 1, 1, 1, 1, 1, 1, 1, 1, 1, 1, 0, 1, 1, 1, 1, 0, 1, 1, 1, 0, 1, 1, 1, 1, 1, 1, 1, 0, 1, 1, 1, 1, 1, 1, 1, 1, 1, 1, 1, 1, 1, 1, 1, 1, 1, 1, 1, 1, 1, 1, 1, 1, 1, 1, 1, 1, 1, 1, 1, 1, 1, 1, 1, 1]\n"
          ]
        }
      ]
    },
    {
      "cell_type": "markdown",
      "source": [
        "**MENGHITUNG AKURASI PADA DATA KESELURUHAN**"
      ],
      "metadata": {
        "id": "8umCLDHM4-1Q"
      }
    },
    {
      "cell_type": "code",
      "source": [
        "tp = 0\n",
        "fn = 0\n",
        "fp = 0\n",
        "tn = 0\n",
        "\n",
        "for i in range (len(dataUji)):\n",
        "  if dataTrain[i][4] == 1 and TheprediksiSeluruh[i] == 1:\n",
        "    tp = tp + 1\n",
        "  elif dataTrain[i][4] == 1 and TheprediksiSeluruh[i] == 0:\n",
        "    fn = fn + 1\n",
        "  elif dataTrain[i][4] == 0 and TheprediksiSeluruh[i] == 1:\n",
        "    fp = fp + 1\n",
        "  elif dataTrain[i][4] == 0 and TheprediksiSeluruh[i] == 0:\n",
        "    tn = tn + 1\n",
        "\n",
        "akurasiKeseluruhan = (tp + tn) / (tp + tn + fn + fp)"
      ],
      "metadata": {
        "id": "RFi83AlKxP4B"
      },
      "execution_count": 16,
      "outputs": []
    },
    {
      "cell_type": "code",
      "source": [
        "print(\"AKURASI DATA KESELURUHAN : \",akurasiKeseluruhan * 100, \"%\")"
      ],
      "metadata": {
        "colab": {
          "base_uri": "https://localhost:8080/"
        },
        "id": "MkzR8-iOxmWO",
        "outputId": "7282734d-9b31-4c1e-ec62-7c45aa0f41a5"
      },
      "execution_count": 17,
      "outputs": [
        {
          "output_type": "stream",
          "name": "stdout",
          "text": [
            "AKURASI DATA KESELURUHAN :  80.0 %\n"
          ]
        }
      ]
    },
    {
      "cell_type": "markdown",
      "source": [
        "**HASIL DATA TESTING**"
      ],
      "metadata": {
        "id": "8N26rGDr5MPC"
      }
    },
    {
      "cell_type": "code",
      "source": [
        "dataTest = np.array(datatest)\n",
        "\n",
        "for i in range(len(dataTest)):\n",
        "  yes = len(idYes)/len(dataLatih) * (bayes(dataTest[i][1], mean_X1Yes, Var_X1Yes)) * (bayes(dataTest[i][2], mean_X2Yes, Var_X2Yes)) * (bayes(dataTest[i][3], mean_X3Yes, Var_X3Yes))\n",
        "  no = len(idNo)/len(dataLatih) * (bayes(dataTest[i][1], mean_X1No, Var_X1No)) * (bayes(dataTest[i][2], mean_X2No, Var_X2No)) * (bayes(dataTest[i][3], mean_X3No, Var_X3No))\n",
        "\n",
        "  if yes > no:\n",
        "    dataTest[i][4] = 1\n",
        "  else:\n",
        "    dataTest[i][4] = 0"
      ],
      "metadata": {
        "id": "OLtGQSnlzAxn"
      },
      "execution_count": 18,
      "outputs": []
    },
    {
      "cell_type": "code",
      "source": [
        "result = pd.DataFrame(dataTest, columns =['id', 'x1', 'x2', 'x3', 'y'])\n",
        "print(result)\n",
        "\n",
        "#Mengubah menjadi file excel\n",
        "result.to_excel('TugasPemrograman3.xlsx')"
      ],
      "metadata": {
        "colab": {
          "base_uri": "https://localhost:8080/"
        },
        "id": "BWrCQ4vP0CxV",
        "outputId": "2c5ec2ff-0ade-423f-926f-e236285b3081"
      },
      "execution_count": 19,
      "outputs": [
        {
          "output_type": "stream",
          "name": "stdout",
          "text": [
            "    id  x1  x2 x3  y\n",
            "0  297  43  59  2  1\n",
            "1  298  67  66  0  1\n",
            "2  299  58  60  3  1\n",
            "3  300  49  63  3  1\n",
            "4  301  45  60  0  1\n",
            "5  302  54  58  1  1\n",
            "6  303  56  66  3  1\n",
            "7  304  42  69  1  1\n",
            "8  305  50  59  2  1\n",
            "9  306  59  60  0  1\n"
          ]
        }
      ]
    }
  ]
}